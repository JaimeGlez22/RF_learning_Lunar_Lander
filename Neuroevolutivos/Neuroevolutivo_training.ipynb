{
 "cells": [
  {
   "cell_type": "markdown",
   "id": "a8a0e765",
   "metadata": {},
   "source": [
    "# Parte 1 1ª Práctica: Lunar Lander con neuroevolutivos\n",
    "\n",
    "Este trabajo ha sido realizado por Adrián Contreras Castillo y Jaime González Delgado. En este notebook se incluye la implementación del entrenamiento de percepton multilayer a partir de técnicas evolutivas. Este perceptron cuenta con una capa de entrada conformado por 8 neuronas, las variables que tiene la nave espacial del juego, una capa intermedia de 6 neuronas y una salida de 4 neuronas, las acciones que puede realizar el jugador, activar motor izquierdo, activar motor principal, activar motor derecho o no hacer nada."
   ]
  },
  {
   "attachments": {},
   "cell_type": "markdown",
   "id": "3ce62d5d",
   "metadata": {},
   "source": [
    "### Documentación\n",
    "\n",
    "Problemas interesantes para Aprendizaje por refuerzo\n",
    " * Gymnasium: https://gymnasium.farama.org/environments/box2d/"
   ]
  },
  {
   "attachments": {},
   "cell_type": "markdown",
   "id": "57c172cf-929c-4be0-b79e-d3da9d17c343",
   "metadata": {},
   "source": [
    "## Instalación\n",
    "\n",
    "!pip install gymnasium  \n",
    "!pip install gymnasium[box2d] \n",
    "\n",
    "## Acciones adicionales\n",
    "\n",
    "### En macos\n",
    "\n",
    "pip uninstall swig  \n",
    "xcode-select -—install (si no se tienen ya)  \n",
    "pip install swig  / sudo port install swig-python\n",
    "pip install 'gymnasium[box2d]' # en zsh hay que poner las comillas  \n",
    "\n",
    "### en Windows\n",
    "\n",
    "Si da error, se debe a la falta de la versión correcta de Microsoft Visual C++ Build Tools, que es una dependencia de Box2D. Para solucionar este problema, puede seguir los siguientes pasos:  \n",
    " * Descargar Microsoft Visual C++ Build Tools desde https://visualstudio.microsoft.com/visual-cpp-build-tools/.\n",
    " * Dentro de la app, seleccione la opción \"Herramientas de compilación de C++\" para instalar.\n",
    " * Reinicie su sesión en Jupyter Notebook.\n",
    " * Ejecute nuevamente el comando !pip install gymnasium[box2d] en la línea de comandos de su notebook."
   ]
  },
  {
   "cell_type": "code",
   "execution_count": 1,
   "id": "a5770333",
   "metadata": {},
   "outputs": [
    {
     "name": "stdout",
     "output_type": "stream",
     "text": [
      "Collecting gymnasium\n",
      "  Downloading gymnasium-0.29.1-py3-none-any.whl.metadata (10 kB)\n",
      "Requirement already satisfied: numpy>=1.21.0 in c:\\users\\jaime\\anaconda3\\envs\\neuroevolutivo\\lib\\site-packages (from gymnasium) (1.26.3)\n",
      "Collecting cloudpickle>=1.2.0 (from gymnasium)\n",
      "  Using cached cloudpickle-3.0.0-py3-none-any.whl.metadata (7.0 kB)\n",
      "Requirement already satisfied: typing-extensions>=4.3.0 in c:\\users\\jaime\\anaconda3\\envs\\neuroevolutivo\\lib\\site-packages (from gymnasium) (4.9.0)\n",
      "Collecting farama-notifications>=0.0.1 (from gymnasium)\n",
      "  Downloading Farama_Notifications-0.0.4-py3-none-any.whl (2.5 kB)\n",
      "Requirement already satisfied: importlib-metadata>=4.8.0 in c:\\users\\jaime\\anaconda3\\envs\\neuroevolutivo\\lib\\site-packages (from gymnasium) (7.0.1)\n",
      "Requirement already satisfied: zipp>=0.5 in c:\\users\\jaime\\anaconda3\\envs\\neuroevolutivo\\lib\\site-packages (from importlib-metadata>=4.8.0->gymnasium) (3.17.0)\n",
      "Downloading gymnasium-0.29.1-py3-none-any.whl (953 kB)\n",
      "   ---------------------------------------- 0.0/953.9 kB ? eta -:--:--\n",
      "   -- ------------------------------------- 61.4/953.9 kB 1.7 MB/s eta 0:00:01\n",
      "   ---------------- ----------------------- 399.4/953.9 kB 6.3 MB/s eta 0:00:01\n",
      "   -------------------------------- ------- 778.2/953.9 kB 7.0 MB/s eta 0:00:01\n",
      "   ---------------------------------------- 953.9/953.9 kB 6.0 MB/s eta 0:00:00\n",
      "Using cached cloudpickle-3.0.0-py3-none-any.whl (20 kB)\n",
      "Installing collected packages: farama-notifications, cloudpickle, gymnasium\n",
      "Successfully installed cloudpickle-3.0.0 farama-notifications-0.0.4 gymnasium-0.29.1\n"
     ]
    }
   ],
   "source": [
    "!pip install gymnasium"
   ]
  },
  {
   "cell_type": "code",
   "execution_count": 4,
   "id": "377bec8a",
   "metadata": {},
   "outputs": [
    {
     "name": "stdout",
     "output_type": "stream",
     "text": [
      "Collecting swig\n",
      "  Using cached swig-4.2.0-py2.py3-none-win_amd64.whl.metadata (3.7 kB)\n",
      "Using cached swig-4.2.0-py2.py3-none-win_amd64.whl (2.5 MB)\n",
      "Installing collected packages: swig\n",
      "Successfully installed swig-4.2.0\n"
     ]
    }
   ],
   "source": [
    "!pip install swig"
   ]
  },
  {
   "cell_type": "code",
   "execution_count": 5,
   "id": "1cb6fb23",
   "metadata": {},
   "outputs": [
    {
     "name": "stdout",
     "output_type": "stream",
     "text": [
      "Requirement already satisfied: gymnasium[box2d] in c:\\users\\jaime\\anaconda3\\envs\\neuroevolutivo\\lib\\site-packages (0.29.1)\n",
      "Requirement already satisfied: numpy>=1.21.0 in c:\\users\\jaime\\anaconda3\\envs\\neuroevolutivo\\lib\\site-packages (from gymnasium[box2d]) (1.26.3)\n",
      "Requirement already satisfied: cloudpickle>=1.2.0 in c:\\users\\jaime\\anaconda3\\envs\\neuroevolutivo\\lib\\site-packages (from gymnasium[box2d]) (3.0.0)\n",
      "Requirement already satisfied: typing-extensions>=4.3.0 in c:\\users\\jaime\\anaconda3\\envs\\neuroevolutivo\\lib\\site-packages (from gymnasium[box2d]) (4.9.0)\n",
      "Requirement already satisfied: farama-notifications>=0.0.1 in c:\\users\\jaime\\anaconda3\\envs\\neuroevolutivo\\lib\\site-packages (from gymnasium[box2d]) (0.0.4)\n",
      "Requirement already satisfied: importlib-metadata>=4.8.0 in c:\\users\\jaime\\anaconda3\\envs\\neuroevolutivo\\lib\\site-packages (from gymnasium[box2d]) (7.0.1)\n",
      "Collecting box2d-py==2.3.5 (from gymnasium[box2d])\n",
      "  Using cached box2d-py-2.3.5.tar.gz (374 kB)\n",
      "  Preparing metadata (setup.py): started\n",
      "  Preparing metadata (setup.py): finished with status 'done'\n",
      "Collecting pygame>=2.1.3 (from gymnasium[box2d])\n",
      "  Using cached pygame-2.5.2-cp39-cp39-win_amd64.whl.metadata (13 kB)\n",
      "Requirement already satisfied: swig==4.* in c:\\users\\jaime\\anaconda3\\envs\\neuroevolutivo\\lib\\site-packages (from gymnasium[box2d]) (4.2.0)\n",
      "Requirement already satisfied: zipp>=0.5 in c:\\users\\jaime\\anaconda3\\envs\\neuroevolutivo\\lib\\site-packages (from importlib-metadata>=4.8.0->gymnasium[box2d]) (3.17.0)\n",
      "Using cached pygame-2.5.2-cp39-cp39-win_amd64.whl (10.8 MB)\n",
      "Building wheels for collected packages: box2d-py\n",
      "  Building wheel for box2d-py (setup.py): started\n",
      "  Building wheel for box2d-py (setup.py): finished with status 'done'\n",
      "  Created wheel for box2d-py: filename=box2d_py-2.3.5-cp39-cp39-win_amd64.whl size=433249 sha256=00a0d916be5b0fead7d763e50f132c8b1a264c42e3e406cdcd250e2de3aa4df4\n",
      "  Stored in directory: c:\\users\\jaime\\appdata\\local\\pip\\cache\\wheels\\a4\\c2\\c1\\076651c394f05fe60990cd85616c2d95bc1619aa113f559d7d\n",
      "Successfully built box2d-py\n",
      "Installing collected packages: box2d-py, pygame\n",
      "Successfully installed box2d-py-2.3.5 pygame-2.5.2\n"
     ]
    }
   ],
   "source": [
    "!pip install gymnasium[box2d] "
   ]
  },
  {
   "cell_type": "code",
   "execution_count": 1,
   "id": "9a0ef482",
   "metadata": {},
   "outputs": [],
   "source": [
    "# multilayer perceptron of any architecture\n",
    "\n",
    "import numpy as np\n",
    "import matplotlib.pyplot as plt\n",
    "\n",
    "class MLP:\n",
    "    '''\n",
    "    Class to define Multilayer Perceptrons.\n",
    "    Declare instance with MLP(layers).\n",
    "    '''\n",
    "    def __init__(self, layers):\n",
    "        '''\n",
    "        layers: a tuple with (ninputs, nhidden1, nhidden2, ... noutput)\n",
    "        '''\n",
    "        self.layers = layers\n",
    "        self.trace = False\n",
    "        self.threshold = 5.0\n",
    "        self.labels = None # text for the labels [input-list, output-list]\n",
    "        \n",
    "        self.size = 0\n",
    "        self.W = [] # list of numpy matrices\n",
    "        self.b = [] # list of numpy vectors\n",
    "        for i in range(len(layers)-1):\n",
    "            w = np.random.rand(layers[i],layers[i+1])-0.5\n",
    "            b = np.random.rand(layers[i+1])-0.5\n",
    "            self.W.append(w)\n",
    "            self.b.append(b)\n",
    "            self.size += layers[i] * layers[i+1] + layers[i+1]\n",
    "        \n",
    "        self.lRMS = [] # hold all traced RMSs to draw graph\n",
    "        self.laccuracy = [] # hold all traced accuracies to draw graph\n",
    "        \n",
    "    def sigm (self, neta):\n",
    "        return 1.0 / (1.0 + np.exp(-neta))\n",
    "    \n",
    "    def forward (self, x): # fast forward (optimized in time, but not use to train!)\n",
    "        for i in range(len(self.b)):\n",
    "            net = np.dot(x,self.W[i]) + self.b[i]\n",
    "            x = self.sigm(net)\n",
    "        return x\n",
    "            \n",
    "    def to_chromosome (self):\n",
    "        '''\n",
    "        Convert weights and biases to a flatten list to use in AG.\n",
    "        '''\n",
    "        ch = []\n",
    "        for w,b in zip(self.W,self.b):\n",
    "            ch += w.flatten().tolist()\n",
    "            ch += b.flatten().tolist()\n",
    "        return ch\n",
    "    \n",
    "    def from_chromosome (self, ch):\n",
    "        '''\n",
    "        Convert a flatten list (chromosome from a GA) to internal weights and biases.\n",
    "        '''\n",
    "        if len(ch) != self.size:\n",
    "            print(self.size)\n",
    "            raise ValueError(\"Chromosome legnth doesn't match architecture\")\n",
    "        self.W = []\n",
    "        self.b = []\n",
    "        pos = 0\n",
    "        for i in range(len(self.layers)-1): # for each layer\n",
    "            to = self.layers[i]*self.layers[i+1] # number of weight\n",
    "            w = np.array(ch[pos:pos+to]).reshape(self.layers[i],self.layers[i+1])\n",
    "            pos += to\n",
    "            to = self.layers[i+1] # number of bias\n",
    "            b = np.array(ch[pos:pos+to]).reshape(self.layers[i+1])\n",
    "            pos += to\n",
    "            \n",
    "            self.W.append(w)\n",
    "            self.b.append(b)\n"
   ]
  },
  {
   "cell_type": "markdown",
   "id": "6e1e5959",
   "metadata": {},
   "source": [
    "## Funciones de evolución\n",
    "\n",
    "En la siguiente celda, se han definido las principales funciones necesarias para crear y evolucionar los individuos. Los individuos tiene 82 cromosomas correspondientes a los pesos y bias del perceptron. Se inicializa una población que irá evolucionando a partir de los métodos de cruce y mutación implementados. La función de cruce implementada es el cruce aritmético. Y la función de mutación consiste en sumar a cada cromosoma un valor aleatorio entre -1 y 1, pero impidiendo que valor del cromosoma supere el rango establecido entre -5 y 5. También se han implementado las técnicas de torneo y de elitismo."
   ]
  },
  {
   "cell_type": "code",
   "execution_count": 79,
   "id": "7c1ffac9",
   "metadata": {},
   "outputs": [],
   "source": [
    "import random\n",
    "import copy\n",
    "from IPython.display import clear_output\n",
    "\n",
    "rang = (-5, 5) # al no hacerlo con clases, debemos definir el rango como variable global\n",
    "\n",
    "\n",
    "def create (alphabet=None, N=50): # crea y devuelve población; alphabet aquí no se usa\n",
    "    return [MLP([8,6,4]).to_chromosome() for _ in range(N)]\n",
    "\n",
    "def crossover (ind1, ind2, pcross): # devuelve el cruce (emparejamiento) de dos individuos\n",
    "    if pcross < random.random():\n",
    "        return (ind1, ind2)\n",
    "\n",
    "    # se aplica cruce aritmético\n",
    "    beta = random.random()\n",
    "    hijo1 = [beta*ind1[i] + (1-beta)*ind2[i] for i in range(len(ind1))]\n",
    "    hijo2 = [beta*ind2[i] + (1-beta)*ind1[i] for i in range(len(ind1))]\n",
    "   \n",
    "    return (hijo1, hijo2)\n",
    "\n",
    "\n",
    "def sort_pop (pop, fit): # devuelve una tupla: la población ordenada por fitness y la lista de fitness ordenada\n",
    "    fit_values = [fit(x) for x in pop]\n",
    "    dict_sort = dict(zip(fit_values, pop))\n",
    "\n",
    "    sorted_pop = [dict_sort[x] for x in sorted(fit_values)]\n",
    "    sorted_fit = sorted(fit_values)\n",
    "\n",
    "    return sorted_pop, sorted_fit\n",
    "\n",
    "def select (pop, T): # devuelve un individuo seleccionado por torneo, devuelve una copia para evitar efectos laterales\n",
    "    index_list = [random.randrange(len(pop)) for _ in range(T)]\n",
    "    return copy.deepcopy(pop[min(index_list)])\n",
    "\n",
    "def mutate (ind, pmut): # devuelve individuo mutado;\n",
    "    if pmut < random.random():\n",
    "        return ind\n",
    "\n",
    "    for i in range(len(ind)):\n",
    "        ind[i] += random.uniform(-1, 1)\n",
    "        ind[i] = max(min(ind[i], rang[1]), rang[0])\n",
    "\n",
    "    return ind\n",
    "\n",
    "def evolve (pop, fit, pmut, pcross=0.7, ngen=100, T=2, trace=0, elitism=False, maximize=False, change_mut=True):\n",
    "    # devuelve la población evolucionada\n",
    "    # si trace > 0, muestra información cada trace generaciones\n",
    "    # si elitism=True, se aplica elitismo\n",
    "    # si maximize=True, se busca el máximo en lugar del mínimo\n",
    "    track_fitness = []\n",
    "    best = None\n",
    "    best_fit = 0\n",
    "    pop_size = len(pop)\n",
    "    for gen in range(ngen):\n",
    "        if best_fit > 200 and change_mut:\n",
    "            pmut = 0.2\n",
    "        newpop = []\n",
    "        for i in range(pop_size//2):\n",
    "            # seleccionamos dos individuos\n",
    "            ind1 = select(pop, T)\n",
    "            ind2 = select(pop, T)\n",
    "            # los cruzamos\n",
    "            hijo1, hijo2 = crossover(ind1, ind2, pcross)\n",
    "            # los mutamos\n",
    "            hijo1 = mutate(hijo1, pmut)\n",
    "            hijo2 = mutate(hijo2, pmut)\n",
    "            # los añadimos a la nueva población\n",
    "            newpop.append(hijo1)\n",
    "            newpop.append(hijo2)\n",
    "        # elitismo\n",
    "        if elitism and best != None:\n",
    "            # eliminamos un individuo aleatorio\n",
    "            newpop.pop(random.randrange(len(newpop)))\n",
    "            # añadimos el mejor de la generación anterior\n",
    "            newpop.append(best)\n",
    "\n",
    "        # evaluamos la nueva población\n",
    "        pop, fit_pop = sort_pop(newpop, fit)\n",
    "        if maximize:\n",
    "            pop.reverse()\n",
    "            fit_pop.reverse()\n",
    "        # nos quedamos con el mejor\n",
    "        best = pop[0]\n",
    "        best_fit = fit_pop[0]\n",
    " \n",
    "        # mostramos información\n",
    "        if trace > 0 and gen % trace == 0:\n",
    "            clear_output()\n",
    "            print(\"Generación: \", gen)\n",
    "            print(\"Mejor: \", best)\n",
    "            print(\"Fitness: \", best_fit)\n",
    "            print(\"Max: \", np.max(fit_pop))\n",
    "            \n",
    "            if maximize: \n",
    "                track_fitness.append(np.max(fit_pop))\n",
    "            else: \n",
    "                track_fitness.append(np.min(fit_pop))\n",
    "                \n",
    "            plt.plot(track_fitness)\n",
    "            plt.show()\n",
    "            \n",
    "    return pop\n",
    "    "
   ]
  },
  {
   "cell_type": "code",
   "execution_count": 59,
   "id": "872b9955",
   "metadata": {},
   "outputs": [],
   "source": [
    "# neuroevolución\n",
    "\n",
    "# construir modelo\n",
    "layer = [8,6,4]\n",
    "model = MLP(layer)\n",
    "ch = model.to_chromosome()\n",
    "model.from_chromosome(ch)\n",
    "\n",
    "# pasar al modelo los pesos del mejor cromosoma obtenido con neuroevolución\n",
    "pop = create(N=50)\n",
    "\n",
    "# definir política\n",
    "def policy (observation, individual):\n",
    "    model.from_chromosome(individual)\n",
    "    s = model.forward(observation)\n",
    "    action = np.argmax(s)\n",
    "    return action"
   ]
  },
  {
   "cell_type": "code",
   "execution_count": 60,
   "id": "40a50806",
   "metadata": {},
   "outputs": [],
   "source": [
    "# prueba lunar lander por agente\n",
    "\n",
    "import gymnasium as gym\n",
    "\n",
    "env = gym.make(\"LunarLander-v2\")\n",
    "\n",
    "def run (individual):\n",
    "    #observation, info = env.reset(seed=42)\n",
    "    observation, info = env.reset()\n",
    "    ite = 0\n",
    "    racum = 0\n",
    "    while True:\n",
    "        action = policy(observation,individual)\n",
    "        observation, reward, terminated, truncated, info = env.step(action)\n",
    "        \n",
    "        racum += reward\n",
    "\n",
    "        if terminated or truncated:\n",
    "            r = (racum+200) / 500\n",
    "            return racum\n",
    "    \n",
    "#run()"
   ]
  },
  {
   "cell_type": "code",
   "execution_count": 62,
   "id": "293647a6",
   "metadata": {},
   "outputs": [],
   "source": [
    "def fitness(individual):\n",
    "    n = 10\n",
    "    r = 0\n",
    "    for _ in range(n):\n",
    "        r += run(individual)\n",
    "    return r/n"
   ]
  },
  {
   "cell_type": "markdown",
   "id": "19dfce51",
   "metadata": {},
   "source": [
    "## Función de Fitness y Comienzo de la evolución\n",
    "\n",
    "Al estar evolucionando en un ambiente cambiante, se ha definido una función de fitness que juega 10 partidas para cada individuo obteninedo la puntuación media de esas 10 partidas. De esta forma podemos tener más seguridad que los individuos se adaptan a terrenos cambiantes. Una vez definida la función de fitness la cual se busca maximizar, ya que el objetivo es alcanzar la mayor puntuación posible, considerando que la nave aterriza cuando la puntuación es superior a 200.\n",
    "\n",
    "En la grafica mostrada durante el entrenamiento va mostrando la evolución de la puntuación que va alcanzando el mejor individuo en cada generación. Cabe destacar el gran avance que se produce entorno a la generación 200, donde se alcanza por primera vez un puntuación media de 250. A pesar, de los buenos resultados de las individuos en estas primeras 500 generaciones, se ha decidido someter a la última población obtenida a otras 500 evoluciones con el fin de afianzar un solución que reduzca a un más los fallos en el juego. En estas últimas evoluciones se puede observar un cambio significativo, pasando de resultados medios entre 230 y 250 a resultados situados entorno a los 280 puntos. Permitiendo obtneer unos individuos al cabo de 1000 generaciones que aterriza en prácticamente la totalidad de las situaciones de juego."
   ]
  },
  {
   "cell_type": "code",
   "execution_count": 68,
   "id": "72255388",
   "metadata": {},
   "outputs": [
    {
     "name": "stdout",
     "output_type": "stream",
     "text": [
      "Generación:  490\n",
      "Mejor:  [1.7784960481499648, -1.4495235973615233, 1.0157035098907015, -0.6522398775889431, 1.6910707878268396, -0.8309677016592135, 0.16740860707190028, 0.8054327140843099, -1.05815683763582, -0.7977318541774265, -0.21475652444217258, -0.09253673202743666, -1.9479664386747038, -0.23446444428553206, 0.6583564843065672, 0.37989671362867133, 2.024714540462118, 0.6073146892901152, -0.18382356166720973, 2.5792118843596556, -1.7419180644775123, -1.5685353380960336, -2.1030308473093626, -1.8144259549773054, 2.1516345029738684, -1.0761291362001477, 0.8417543608338123, 2.4715095604154196, 1.6688822136183754, -0.4960121551451172, 1.2178476637181146, 2.001326554112204, -2.617968597579365, -0.4590151628089944, -1.8748137980468815, -0.07468108064421952, -0.2853090200271965, -0.8079195100546401, 0.027791894505108727, -0.6573932841464736, -0.48463663267384816, 1.8532609304339824, -0.10704679176040814, 3.486890913377067, -1.9827552855887307, 0.2382130216033304, 0.4336287017913819, 1.5205278066314882, 0.15107706853047856, 1.2909092040929548, 0.032608591131346516, 0.30493133376022097, -0.19559696122813788, -1.3926927469978418, 1.620086578608221, -0.49236421459766494, -0.09484950461104857, 2.205385389633087, 0.21624864959964735, 0.6107768615922323, -4.006729912132951, -0.03783403685930045, -2.73204669484827, 1.747386144159286, 1.5388143589154675, -1.1661871278102895, -0.49869608686324185, -1.1641175709995117, -0.10951284667461472, 0.6855099580157167, 0.7522288674110786, 0.6773152383905439, 1.907284382830441, 0.5832238688947483, -0.1238749607661618, -2.7200714541572135, 1.7969003642032482, -3.002994228740754, -0.6666740425174178, -0.03823810617864207, 0.2521123761359809, -0.7652243653077642]\n",
      "Fitness:  254.09763881286682\n",
      "Max:  254.09763881286682\n"
     ]
    },
    {
     "data": {
      "image/png": "[encoded data removed]",
      "text/plain": [
       "<Figure size 640x480 with 1 Axes>"
      ]
     },
     "metadata": {},
     "output_type": "display_data"
    }
   ],
   "source": [
    "pop = create(N=100)\n",
    "pop = evolve(pop, fitness, pmut=0.5, pcross=0.7, ngen=500, T=6, trace=10, elitism=True, maximize=True)"
   ]
  },
  {
   "cell_type": "code",
   "execution_count": 69,
   "id": "5fa86176",
   "metadata": {},
   "outputs": [
    {
     "name": "stdout",
     "output_type": "stream",
     "text": [
      "100\n"
     ]
    }
   ],
   "source": [
    "import pickle\n",
    "\n",
    "# Aquí está tu variable\n",
    "print(len(pop))\n",
    "\n",
    "# Abre el archivo donde quieres guardar la variable\n",
    "with open('gen_500.pkl', 'wb') as f:\n",
    "    # Usa pickle.dump para guardar la variable en el archivo\n",
    "    pickle.dump(pop, f)"
   ]
  },
  {
   "cell_type": "code",
   "execution_count": 72,
   "id": "5043aafd",
   "metadata": {},
   "outputs": [
    {
     "name": "stdout",
     "output_type": "stream",
     "text": [
      "[1.7784960481400014, -1.4495235973524445, 1.0157035098745477, -0.6522398775908873, 1.6910707878110687, -0.83096770164294, 0.16740860705648428, 0.8054327140654713, -1.058156837624784, -0.7977318541929783, -0.21475652445439392, -0.0925367320150767, -1.947966438688813, -0.23446444426803115, 0.658356484308926, 0.37989671364761857, 2.024714540465692, 0.6073146892991437, -0.18382356167887573, 2.5792118843568304, -1.7419180644911756, -1.5685353380937646, -2.103030847305923, -1.8144259549650652, 2.151634502956768, -1.0761291361964216, 0.841754360836336, 2.4715095604022688, 1.6688822136329857, -0.4960121551347884, 1.2178476637399616, 2.0013265541143936, -2.6179685975802665, -0.45901516278627563, -1.8748137980595878, -0.07468108064645006, -0.28530902002176406, -0.8079195100756795, 0.02779189449373935, -0.6573932841381549, -0.48463663269231877, 1.8532609304376986, -0.10704679176929562, 3.486890913369993, -1.9827552856101327, 0.23821302160104046, 0.43362870178668167, 1.5205278066102235, 0.15107706855456238, 1.2909092040783143, 0.032608591125224615, 0.3049313337682136, -0.19559696123125392, -1.3926927470138923, 1.620086578626576, -0.4923642146064099, -0.09484950463451332, 2.2053853896399143, 0.2162486496079647, 0.6107768616124929, -4.006729912149446, -0.037834036841506824, -2.732046694853012, 1.7473861441797056, 1.5388143589071543, -1.1661871278022786, -0.4986960868759921, -1.164117570992834, -0.10951284666082073, 0.6855099579957065, 0.7522288673957401, 0.6773152383918963, 1.9072843828457693, 0.5832238688915743, -0.12387496077532706, -2.7200714541762867, 1.7969003642172714, -3.002994228727264, -0.666674042534837, -0.0382381061956022, 0.2521123761460345, -0.7652243653299813]\n"
     ]
    }
   ],
   "source": [
    "with open('gen_500.pkl', 'rb') as f:\n",
    "    pop2 = pickle.load(f)\n",
    "\n",
    "print(pop2[0])"
   ]
  },
  {
   "cell_type": "code",
   "execution_count": 70,
   "id": "0c6dcea6",
   "metadata": {},
   "outputs": [],
   "source": [
    "import gymnasium as gym\n",
    "\n",
    "def run_info_2(individual, env):\n",
    "    #observation, info = env.reset(seed=42)\n",
    "    observation, info = env.reset()\n",
    "    ite = 0\n",
    "    racum = 0\n",
    "    while True:\n",
    "        action = policy(observation,individual)\n",
    "        observation, reward, terminated, truncated, info = env.step(action)\n",
    "        \n",
    "        racum += reward\n",
    "\n",
    "        str_print = \"Reward: \"\n",
    "\n",
    "        if terminated or truncated:\n",
    "            str_print += str(racum)\n",
    "            if racum > 200:\n",
    "                str_print += \" (success)\"\n",
    "            r = (racum+200) / 500\n",
    "            #print(racum, r)\n",
    "            print(str_print)\n",
    "            return racum\n",
    "\n",
    "def get_ref_medio(individuo, draw=False):\n",
    "    # Draw == True para ver el entorno, False para no verlo\n",
    "\n",
    "    if draw:\n",
    "        env = gym.make(\"LunarLander-v2\", render_mode=\"human\")\n",
    "    else:\n",
    "        env = gym.make(\"LunarLander-v2\")\n",
    "\n",
    "    N = 10\n",
    "    r = []\n",
    "\n",
    "    for _ in range(N):\n",
    "        r.append(run_info_2(individuo, env))\n",
    "        \n",
    "    r_mean = round(np.mean(r),2)\n",
    "    r_std = round(np.std(r),2)\n",
    "\n",
    "    print(f\"Refuerzo medio: {r_mean}\\u00B1{r_std}\")"
   ]
  },
  {
   "cell_type": "markdown",
   "id": "81a15474",
   "metadata": {},
   "source": [
    "## Resultados mejor individuo en 500 generaciones\n",
    "\n",
    "La siguiente celda recoge los resultados de 10 partidas con el individuo de la generación 500, donde se observa que aterriza en 7 de las simulaciones, pero la media se encuentra por debajo de los 200 puntos y con una gran dispersión en los resultados."
   ]
  },
  {
   "cell_type": "code",
   "execution_count": 78,
   "id": "95076bdf",
   "metadata": {},
   "outputs": [
    {
     "name": "stdout",
     "output_type": "stream",
     "text": [
      "Reward: 243.77521261796784 (success)\n",
      "Reward: 167.81488558255052\n",
      "Reward: 61.35706268749243\n",
      "Reward: 283.8792990355667 (success)\n",
      "Reward: 254.5203922172142 (success)\n",
      "Reward: 248.7410623165187 (success)\n",
      "Reward: 275.17941529919335 (success)\n",
      "Reward: 255.5558209025079 (success)\n",
      "Reward: -126.92021647364552\n",
      "Reward: 234.23302499343876 (success)\n",
      "Refuerzo medio: 189.81±122.6\n"
     ]
    }
   ],
   "source": [
    "get_ref_medio(pop2[0], draw=False)"
   ]
  },
  {
   "cell_type": "code",
   "execution_count": 80,
   "id": "13807bfd",
   "metadata": {},
   "outputs": [
    {
     "name": "stdout",
     "output_type": "stream",
     "text": [
      "Generación:  499\n",
      "Mejor:  [1.8357286555871286, -1.2871596923469366, 1.4427148862006072, -1.067942694050395, 1.227124470825069, -0.3981336686645661, 0.0883329202495089, 0.9084858537655703, -1.2053240252464583, -1.142492819624883, 0.11154123604243943, -0.3650155529712934, -2.03375689019522, -0.062074655428796824, 0.14414653627099216, -0.02491185776241151, 2.0444742827444142, 0.5944290241961856, -0.4718697995004135, 2.316237267074747, -1.7385138494409267, -1.4940020467480688, -1.987963428249699, -2.0162111407446517, 2.231441321920885, -1.1998198763027241, 0.8417777375207538, 2.2840486552267603, 1.865910176780503, 0.11251991349005713, 1.2048834469912948, 2.1270109611763, -2.493620604762256, -1.0746903666854994, -1.6354814628774257, -0.32206569594811607, 0.009133374806930645, -1.410958838217427, 0.04341748320036815, -0.6171452965019152, -0.13271941657030176, 1.7739670003427677, 0.12353015921022778, 3.4555607712192127, -1.7489842524959256, 0.9720662079198408, 0.144029397715843, 2.291592774198842, 0.18752646558827085, 1.0176154237199404, -0.0164439125296548, -0.15083023731261963, -0.1393047630737378, -1.8609427671233618, 1.5002530595241979, -0.3717865251071881, 0.17808734841876256, 1.8188457536350096, 0.5273856252819848, 0.7372238837207146, -4.496047056221079, -0.6177090854429738, -3.0945388952437476, 2.1432610040709212, 1.257487819945939, -1.227049792268231, -0.08960246263051838, -1.9582720495918855, -0.12956430202726194, 0.680856552362335, 0.15879346451695003, 0.7333244548883404, 1.8918144865631068, 0.9503035244372446, 0.35947211315228766, -3.19429495904952, 1.7367017959121842, -2.2118932793321537, -1.0198362211519472, -0.04843708525099754, 1.0663684446800075, -0.2947400596635395]\n",
      "Fitness:  280.6885994478495\n",
      "Max:  280.6885994478495\n"
     ]
    },
    {
     "data": {
      "image/png": "[encoded data removed]",
      "text/plain": [
       "<Figure size 640x480 with 1 Axes>"
      ]
     },
     "metadata": {},
     "output_type": "display_data"
    }
   ],
   "source": [
    "pop3 = evolve(pop2, fitness, pmut=0.5, pcross=0.7, ngen=500, T=6, trace=1, elitism=True, maximize=True, change_mut=False)"
   ]
  },
  {
   "cell_type": "code",
   "execution_count": 81,
   "id": "0fab96f5",
   "metadata": {},
   "outputs": [
    {
     "name": "stdout",
     "output_type": "stream",
     "text": [
      "Reward: 261.2921833922592 (success)\n",
      "Reward: 249.78990241481293 (success)\n",
      "Reward: 271.14112549062736 (success)\n",
      "Reward: 249.05394201478234 (success)\n",
      "Reward: 254.20238244954504 (success)\n",
      "Reward: 278.9066632908958 (success)\n",
      "Reward: 272.50590150845903 (success)\n",
      "Reward: 252.51178312961156 (success)\n",
      "Reward: 257.647737880856 (success)\n",
      "Reward: 305.93811836940483 (success)\n",
      "Refuerzo medio: 265.3±16.7\n"
     ]
    }
   ],
   "source": [
    "get_ref_medio(pop3[0], draw=False)"
   ]
  },
  {
   "cell_type": "code",
   "execution_count": 83,
   "id": "299fbfaa",
   "metadata": {},
   "outputs": [],
   "source": [
    "import pickle\n",
    "\n",
    "\n",
    "# Abre el archivo donde quieres guardar la variable\n",
    "with open('gen_1000.pkl', 'wb') as f:\n",
    "    # Usa pickle.dump para guardar la variable en el archivo\n",
    "    pickle.dump(pop[0], f)"
   ]
  },
  {
   "cell_type": "markdown",
   "id": "3aa060b8",
   "metadata": {},
   "source": [
    "## Resultados del mejor individuo despues de 1000 generaciones\n",
    "\n",
    "En la siguiente celda se recogen los resultados de jugar 10 partidas con el mejor individuo de la generación 1000 donde se consigue aterrizar en las 10 partidas con una puntuación media de 280 y desviación baja entre las simulaciones."
   ]
  },
  {
   "cell_type": "code",
   "execution_count": 82,
   "id": "f626379c",
   "metadata": {},
   "outputs": [
    {
     "name": "stdout",
     "output_type": "stream",
     "text": [
      "Reward: 297.94925485870186 (success)\n",
      "Reward: 271.9546750098002 (success)\n",
      "Reward: 294.2425219180188 (success)\n",
      "Reward: 260.02438095356615 (success)\n",
      "Reward: 293.731172434419 (success)\n",
      "Reward: 282.23464617299385 (success)\n",
      "Reward: 309.28776962281455 (success)\n",
      "Reward: 276.9235686689187 (success)\n",
      "Reward: 266.6503203654605 (success)\n",
      "Reward: 250.37741205520467 (success)\n",
      "Refuerzo medio: 280.34±17.62\n"
     ]
    }
   ],
   "source": [
    "get_ref_medio(pop3[0], draw=False)"
   ]
  }
 ],
 "metadata": {
  "kernelspec": {
   "display_name": "Python 3 (ipykernel)",
   "language": "python",
   "name": "python3"
  },
  "language_info": {
   "codemirror_mode": {
    "name": "ipython",
    "version": 3
   },
   "file_extension": ".py",
   "mimetype": "text/x-python",
   "name": "python",
   "nbconvert_exporter": "python",
   "pygments_lexer": "ipython3",
   "version": "3.9.18"
  }
 },
 "nbformat": 4,
 "nbformat_minor": 5
}
